{
 "cells": [
  {
   "cell_type": "code",
   "execution_count": 3,
   "metadata": {},
   "outputs": [],
   "source": [
    "from qiskit import QuantumRegister, ClassicalRegister, QuantumCircuit\n",
    "from qiskit import BasicAer\n",
    "from qiskit import execute\n",
    "from qiskit.tools.visualization import plot_histogram\n",
    "from IBMQuantumExperience.IBMQuantumExperience import IBMQuantumExperience\n",
    "from qiskit import IBMQ\n",
    "from qiskit.providers.ibmq import least_busy\n",
    "from qiskit.tools.monitor import job_monitor\n",
    "from math import *"
   ]
  },
  {
   "cell_type": "code",
   "execution_count": 4,
   "metadata": {},
   "outputs": [],
   "source": [
    "def cu1(circuit, lam, c, t):\n",
    "        circuit.u1(lam / 2, c)\n",
    "        circuit.cx(c, t)\n",
    "        circuit.u1(-lam / 2, t)\n",
    "        circuit.cx(c, t)\n",
    "        circuit.u1(lam / 2, t)\n",
    "\n",
    "\n",
    "def cu3(circuit, theta, phi, lam, c, t):\n",
    "        circuit.u1((lam + phi) / 2, c)\n",
    "        circuit.u1((lam - phi) / 2, t)\n",
    "        circuit.cx(c, t)\n",
    "        circuit.u3(-theta / 2, 0, -(phi + lam) / 2, t)\n",
    "        circuit.cx(c, t)\n",
    "        circuit.u3(theta / 2, phi, 0, t)\n",
    "\n",
    "def ccx(circuit, a, b, c):\n",
    "        circuit.u2(0, np.pi, c)\n",
    "        circuit.cx(b, c)\n",
    "        circuit.u1(-np.pi / 4, c)\n",
    "        circuit.cx(a, c)\n",
    "        circuit.u1(np.pi / 4, c)\n",
    "        circuit.cx(b, c)\n",
    "        circuit.u1(-np.pi / 4, c)\n",
    "        circuit.cx(a, c)\n",
    "        circuit.u1(np.pi / 4, b)\n",
    "        circuit.u1(np.pi / 4, c)\n",
    "        circuit.u2(0, np.pi, c)\n",
    "        circuit.cx(a, b)\n",
    "        circuit.u1(np.pi / 4, a)\n",
    "        circuit.u1(-np.pi / 4, b)\n",
    "        circuit.cx(a, b)\n"
   ]
  },
  {
   "cell_type": "code",
   "execution_count": 5,
   "metadata": {},
   "outputs": [],
   "source": [
    "q = QuantumRegister(2)\n",
    "c = ClassicalRegister(2, \"c\")\n",
    "qc = QuantumCircuit(q, c, name=\"test_cu1\")"
   ]
  }
 ],
 "metadata": {
  "kernelspec": {
   "display_name": "Python 3",
   "language": "python",
   "name": "python3"
  },
  "language_info": {
   "codemirror_mode": {
    "name": "ipython",
    "version": 3
   },
   "file_extension": ".py",
   "mimetype": "text/x-python",
   "name": "python",
   "nbconvert_exporter": "python",
   "pygments_lexer": "ipython3",
   "version": "3.8.5"
  }
 },
 "nbformat": 4,
 "nbformat_minor": 2
}
