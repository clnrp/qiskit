{
 "cells": [
  {
   "cell_type": "code",
   "execution_count": 1,
   "metadata": {},
   "outputs": [],
   "source": [
    "from cmath import *\n",
    "import numpy as np\n",
    "from scipy.linalg import expm, sinm, cosm, logm\n",
    "from qiskit.quantum_info.synthesis.two_qubit_decompose import * \n",
    "from scipy.linalg import sqrtm "
   ]
  },
  {
   "cell_type": "code",
   "execution_count": 2,
   "metadata": {},
   "outputs": [],
   "source": [
    "A = np.matrix(10*np.random.rand(3,3))  # random matriz 3x3\n",
    "A = (A + A.T)/2  # matriz simetrica\n",
    "\n",
    "D = np.matrix('0.3125 0; 0 0.75')\n",
    "P = 1/sqrt(2)*np.matrix('1 0; 0 1')\n",
    "\n",
    "A = P*D*P.I\n",
    "#print(D)\n",
    "#print(P)\n",
    "#print(A)\n",
    "#A=matrix = [[1, 3], [3, 2]]\n",
    "\n",
    "U = np.matrix(expm(1j*A))"
   ]
  },
  {
   "cell_type": "code",
   "execution_count": 3,
   "metadata": {},
   "outputs": [
    {
     "name": "stdout",
     "output_type": "stream",
     "text": [
      "6.283185307179586 0.5235987755982988 0.7853981633974483\n"
     ]
    },
    {
     "data": {
      "text/plain": [
       "(matrix([[-1.00000000e+00-0.00000000e+00j,\n",
       "          -8.65956056e-17-8.65956056e-17j],\n",
       "         [ 1.06057524e-16+6.12323400e-17j,\n",
       "          -2.58819045e-01-9.65925826e-01j]]),\n",
       " 2.4492935982947064e-16,\n",
       " -2.6179938779914944,\n",
       " -2.3561944901923453)"
      ]
     },
     "execution_count": 3,
     "metadata": {},
     "output_type": "execute_result"
    }
   ],
   "source": [
    "#m_90 = sqrtm(U)\n",
    "#theta,phi,lambd = euler_angles_1q(U)  \n",
    "\n",
    "theta,phi,lambd = 2*pi,pi/6,pi/4\n",
    "print(theta,phi,lambd)\n",
    "\n",
    "U1 = np.matrix([[cos(theta/2),-exp(1j*lambd)*sin(theta/2)],\n",
    "           [exp(1j*phi)*sin(theta/2),exp(1j*lambd+1j*phi)*cos(theta/2)]])\n",
    "\n",
    "theta,phi,lambd = euler_angles_1q(U1)\n",
    "U1,theta,phi,lambd"
   ]
  },
  {
   "cell_type": "code",
   "execution_count": 14,
   "metadata": {},
   "outputs": [
    {
     "data": {
      "text/plain": [
       "(array([[-3.14159265e+00+2.70616862e-16j,  1.71858109e-17-1.30539194e-16j],\n",
       "        [ 0.00000000e+00-0.00000000e+00j, -1.83259571e+00+5.55111512e-16j]]),\n",
       " array([-3.14159265, -1.83259571]))"
      ]
     },
     "execution_count": 14,
     "metadata": {},
     "output_type": "execute_result"
    }
   ],
   "source": [
    "H=-1j*logm(U1)\n",
    "w, v = np.linalg.eigh(H)\n",
    "H,w"
   ]
  },
  {
   "cell_type": "code",
   "execution_count": 15,
   "metadata": {},
   "outputs": [
    {
     "data": {
      "text/plain": [
       "(matrix([[-1.00000000e+00-5.66553890e-16j,\n",
       "          -8.65956056e-17-8.65956056e-17j],\n",
       "         [ 0.00000000e+00+0.00000000e+00j,\n",
       "          -2.58819045e-01-9.65925826e-01j]]),\n",
       " 0.0,\n",
       " -2.48709418409192,\n",
       " -2.48709418409192)"
      ]
     },
     "execution_count": 15,
     "metadata": {},
     "output_type": "execute_result"
    }
   ],
   "source": [
    "U2=np.matrix(expm(1j*H))\n",
    "theta,phi,lambd = euler_angles_1q(U2)\n",
    "U2,theta,phi,lambd"
   ]
  },
  {
   "cell_type": "code",
   "execution_count": 60,
   "metadata": {},
   "outputs": [
    {
     "data": {
      "text/plain": [
       "matrix([[-2.22044605e-16+5.66553890e-16j,\n",
       "         -6.16297582e-32+1.23259516e-32j],\n",
       "        [ 1.06057524e-16+6.12323400e-17j,\n",
       "         -2.77555756e-16-4.44089210e-16j]])"
      ]
     },
     "execution_count": 60,
     "metadata": {},
     "output_type": "execute_result"
    }
   ],
   "source": [
    "U1-U2"
   ]
  },
  {
   "cell_type": "code",
   "execution_count": 25,
   "metadata": {},
   "outputs": [
    {
     "data": {
      "text/plain": [
       "(matrix([[ 1.00000000e+00-0.00000000e+00j,\n",
       "           8.65956056e-17+8.65956056e-17j],\n",
       "         [-1.06057524e-16-6.12323400e-17j,\n",
       "           2.58819045e-01+9.65925826e-01j]]),\n",
       " 2.449293598294707e-16,\n",
       " 3.665191429188092,\n",
       " -2.3561944901923453)"
      ]
     },
     "execution_count": 25,
     "metadata": {},
     "output_type": "execute_result"
    }
   ],
   "source": [
    "U3 = np.matrix([[cos(theta/2),-exp(1j*lambd)*sin(theta/2)],\n",
    "           [exp(1j*phi)*sin(theta/2),exp(1j*lambd+1j*phi)*cos(theta/2)]])\n",
    "\n",
    "theta,phi,lambd = euler_angles_1q(U3)\n",
    "U3,theta,phi,lambd"
   ]
  },
  {
   "cell_type": "code",
   "execution_count": 9,
   "metadata": {},
   "outputs": [
    {
     "data": {
      "text/plain": [
       "matrix([[ 1.        +0.j        ,  0.        +0.j        ,\n",
       "          0.        +0.j        ,  0.        +0.j        ],\n",
       "        [ 0.        +0.j        ,  1.        +0.j        ,\n",
       "          0.        +0.j        ,  0.        +0.j        ],\n",
       "        [ 0.        +0.j        ,  0.        +0.j        ,\n",
       "          0.83948788+0.18918008j,  0.18918008+0.4729502j ],\n",
       "        [ 0.        +0.j        ,  0.        +0.j        ,\n",
       "         -0.18918008+0.4729502j ,  0.83948788-0.18918008j]])"
      ]
     },
     "execution_count": 9,
     "metadata": {},
     "output_type": "execute_result"
    }
   ],
   "source": [
    "U = np.matrix([[1, 0, 0, 0],[0, 1, 0, 0],\n",
    "               [0,0,0.83948788+0.18918008j,  0.18918008+0.4729502j],[0,0,-0.18918008+0.4729502j ,  0.83948788-0.18918008j]])\n",
    "U"
   ]
  },
  {
   "cell_type": "code",
   "execution_count": 41,
   "metadata": {},
   "outputs": [],
   "source": [
    "#decompose_two_qubit_product_gate(U3)\n",
    "L = np.array([[-1.00000000e+00-0.00000000e+00j,-8.65956056e-17-8.65956056e-17j],[ 1.06057524e-16+6.12323400e-17j,\n",
    "          -2.58819045e-01-9.65925826e-01j]], dtype=complex)"
   ]
  },
  {
   "cell_type": "code",
   "execution_count": 43,
   "metadata": {},
   "outputs": [],
   "source": [
    "#twoq = TwoQubitBasisDecomposer(L)"
   ]
  },
  {
   "cell_type": "code",
   "execution_count": null,
   "metadata": {},
   "outputs": [],
   "source": []
  }
 ],
 "metadata": {
  "kernelspec": {
   "display_name": "Python 3",
   "language": "python",
   "name": "python3"
  },
  "language_info": {
   "codemirror_mode": {
    "name": "ipython",
    "version": 3
   },
   "file_extension": ".py",
   "mimetype": "text/x-python",
   "name": "python",
   "nbconvert_exporter": "python",
   "pygments_lexer": "ipython3",
   "version": "3.7.4"
  }
 },
 "nbformat": 4,
 "nbformat_minor": 2
}
