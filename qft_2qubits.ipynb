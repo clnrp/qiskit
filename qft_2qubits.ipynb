{
 "cells": [
  {
   "cell_type": "code",
   "execution_count": 2,
   "metadata": {},
   "outputs": [],
   "source": [
    "from qiskit import QuantumRegister, ClassicalRegister, QuantumCircuit\n",
    "from qiskit import BasicAer\n",
    "from qiskit import execute\n",
    "from qiskit.tools.visualization import plot_histogram\n",
    "from IBMQuantumExperience.IBMQuantumExperience import IBMQuantumExperience\n",
    "from qiskit import IBMQ\n",
    "from qiskit.providers.ibmq import least_busy\n",
    "from qiskit.tools.monitor import job_monitor\n",
    "import numpy as np\n",
    "import math"
   ]
  },
  {
   "cell_type": "code",
   "execution_count": 13,
   "metadata": {
    "scrolled": true
   },
   "outputs": [
    {
     "name": "stdout",
     "output_type": "stream",
     "text": [
      "[0.5+0.j 0.5+0.j 0.5+0.j 0.5+0.j]\n"
     ]
    }
   ],
   "source": [
    "x = np.array([1, 0, 0, 0])\n",
    "y = np.fft.fft(x, norm='ortho')\n",
    "print(y)"
   ]
  },
  {
   "cell_type": "code",
   "execution_count": 14,
   "metadata": {},
   "outputs": [
    {
     "name": "stdout",
     "output_type": "stream",
     "text": [
      "[1.+0.j 0.+0.j 0.+0.j 0.+0.j]\n"
     ]
    }
   ],
   "source": [
    "x = np.fft.ifft(y, norm='ortho')\n",
    "print(x)"
   ]
  },
  {
   "cell_type": "code",
   "execution_count": 15,
   "metadata": {},
   "outputs": [
    {
     "name": "stdout",
     "output_type": "stream",
     "text": [
      "{'00': 1024}\n"
     ]
    },
    {
     "data": {
      "image/png": "[encoded data removed]",
      "text/plain": [
       "<Figure size 504x360 with 1 Axes>"
      ]
     },
     "execution_count": 15,
     "metadata": {},
     "output_type": "execute_result"
    }
   ],
   "source": [
    "def qft(qc,qr,n):\n",
    "    for i in range(n):\n",
    "        for j in range(i):\n",
    "            qc.cu1(math.pi/float(2**(i-j)), qr[i], qr[j])\n",
    "        qc.h(qr[i])\n",
    "        \n",
    "qx = QuantumRegister(2)\n",
    "qy = QuantumRegister(1)\n",
    "c = ClassicalRegister(2, \"c\")\n",
    "qc = QuantumCircuit(qx, qy, c, name=\"qft_2q\")\n",
    "\n",
    "#qc.x(qx[0])\n",
    "#qc.x(qx[1])\n",
    "\n",
    "qc.h(qx)\n",
    "qc.x(qy)\n",
    "qc.h(qy)\n",
    "\n",
    "qft(qc,qx,2)\n",
    "\n",
    "qc.swap(qx[0], qx[1])\n",
    "\n",
    "qc.measure(qx, c)\n",
    "\n",
    "backend = BasicAer.get_backend('qasm_simulator')\n",
    "result = execute(qc, backend, shots=1024).result()\n",
    "counts  = result.get_counts(qc)\n",
    "print(counts)\n",
    "plot_histogram(counts)"
   ]
  },
  {
   "cell_type": "code",
   "execution_count": 14,
   "metadata": {},
   "outputs": [
    {
     "data": {
      "image/png": "[encoded data removed]",
      "text/plain": [
       "<Figure size 963.2x439.46 with 1 Axes>"
      ]
     },
     "execution_count": 14,
     "metadata": {},
     "output_type": "execute_result"
    }
   ],
   "source": [
    "qc.draw(output='mpl', plot_barriers=False)"
   ]
  },
  {
   "cell_type": "code",
   "execution_count": null,
   "metadata": {},
   "outputs": [],
   "source": [
    "token = open(\"../ibm_token.txt\",\"r\").read().strip()\n",
    "IBMQ.enable_account(token)"
   ]
  },
  {
   "cell_type": "code",
   "execution_count": null,
   "metadata": {},
   "outputs": [
    {
     "data": {
      "application/vnd.jupyter.widget-view+json": {
       "model_id": "0b8e77b1c429468ea1574e0d095a0187",
       "version_major": 2,
       "version_minor": 0
      },
      "text/plain": [
       "HTML(value=\"<p style='font-size:16px;'>Job Status: job is being initialized </p>\")"
      ]
     },
     "metadata": {},
     "output_type": "display_data"
    }
   ],
   "source": [
    "shots = 1024\n",
    "\n",
    "provider = IBMQ.get_provider()\n",
    "print(provider.backends())\n",
    "backend  = provider.get_backend('ibmq_athens')\n",
    "\n",
    "job_exp = execute(qc, backend=backend, shots=shots)\n",
    "job_monitor(job_exp)"
   ]
  },
  {
   "cell_type": "code",
   "execution_count": null,
   "metadata": {
    "scrolled": false
   },
   "outputs": [],
   "source": [
    "result_exp = job_exp.result()\n",
    "print(result_exp)"
   ]
  },
  {
   "cell_type": "code",
   "execution_count": null,
   "metadata": {},
   "outputs": [],
   "source": [
    "counts_exp = result_exp.get_counts(qc)\n",
    "plot_histogram([counts_exp,counts])"
   ]
  },
  {
   "cell_type": "code",
   "execution_count": null,
   "metadata": {},
   "outputs": [],
   "source": [
    "jobID = job_exp.job_id()\n",
    "print('JOB ID: {}'.format(jobID))"
   ]
  },
  {
   "cell_type": "code",
   "execution_count": 57,
   "metadata": {},
   "outputs": [],
   "source": [
    "#job_get=backend.retrieve_job(jobID)\n",
    "#job_get.result().get_counts(qc)"
   ]
  },
  {
   "cell_type": "code",
   "execution_count": 58,
   "metadata": {},
   "outputs": [
    {
     "data": {
      "text/plain": [
       "{'maxUserType': 15, 'promotional': 0, 'remaining': 15}"
      ]
     },
     "execution_count": 58,
     "metadata": {},
     "output_type": "execute_result"
    }
   ],
   "source": [
    "api = IBMQuantumExperience(token)\n",
    "api.get_my_credits()"
   ]
  },
  {
   "cell_type": "code",
   "execution_count": 8,
   "metadata": {},
   "outputs": [],
   "source": [
    "#api.get_last_codes()"
   ]
  },
  {
   "cell_type": "code",
   "execution_count": 33,
   "metadata": {},
   "outputs": [
    {
     "name": "stdout",
     "output_type": "stream",
     "text": [
      "OPENQASM 2.0;\n",
      "include \"qelib1.inc\";\n",
      "qreg q18[4];\n",
      "qreg q19[1];\n",
      "creg c[4];\n",
      "h q18[0];\n",
      "h q18[1];\n",
      "h q18[2];\n",
      "h q18[3];\n",
      "x q19[0];\n",
      "h q19[0];\n",
      "cx q18[0],q19[0];\n",
      "cx q18[2],q19[0];\n",
      "cx q18[3],q19[0];\n",
      "barrier q18[0],q18[1],q18[2],q18[3],q19[0];\n",
      "h q18[0];\n",
      "h q18[1];\n",
      "h q18[2];\n",
      "h q18[3];\n",
      "h q19[0];\n",
      "barrier q18[0],q18[1],q18[2],q18[3],q19[0];\n",
      "measure q18[0] -> c[0];\n",
      "measure q18[1] -> c[1];\n",
      "measure q18[2] -> c[2];\n",
      "measure q18[3] -> c[3];\n",
      "\n"
     ]
    }
   ],
   "source": [
    "print(qc.qasm())"
   ]
  },
  {
   "cell_type": "code",
   "execution_count": null,
   "metadata": {},
   "outputs": [],
   "source": []
  }
 ],
 "metadata": {
  "kernelspec": {
   "display_name": "Python 3",
   "language": "python",
   "name": "python3"
  },
  "language_info": {
   "codemirror_mode": {
    "name": "ipython",
    "version": 3
   },
   "file_extension": ".py",
   "mimetype": "text/x-python",
   "name": "python",
   "nbconvert_exporter": "python",
   "pygments_lexer": "ipython3",
   "version": "3.8.5"
  }
 },
 "nbformat": 4,
 "nbformat_minor": 2
}
