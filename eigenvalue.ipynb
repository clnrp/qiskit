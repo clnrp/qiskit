{
 "cells": [
  {
   "cell_type": "code",
   "execution_count": 290,
   "metadata": {},
   "outputs": [],
   "source": [
    "from qiskit import QuantumRegister, ClassicalRegister, QuantumCircuit\n",
    "from qiskit import BasicAer\n",
    "from qiskit import execute\n",
    "from qiskit.tools.visualization import plot_histogram\n",
    "from IBMQuantumExperience.IBMQuantumExperience import IBMQuantumExperience\n",
    "from qiskit import IBMQ\n",
    "from qiskit.providers.ibmq import least_busy\n",
    "from qiskit.tools.monitor import job_monitor\n",
    "from cmath import *\n",
    "import numpy as np\n",
    "from scipy.linalg import expm, sinm, cosm, logm, sqrtm\n",
    "from qiskit.quantum_info.synthesis import euler_angles_1q "
   ]
  },
  {
   "cell_type": "code",
   "execution_count": 291,
   "metadata": {},
   "outputs": [
    {
     "name": "stdout",
     "output_type": "stream",
     "text": [
      "[[ 1.        +0.j          0.        +0.j        ]\n",
      " [-0.        +0.j         -0.70710678-0.70710678j]]\n"
     ]
    }
   ],
   "source": [
    "D = np.matrix('0 0; 0 3.9269908169872414')\n",
    "P = np.matrix('1 0; 0 1')/sqrt(2)\n",
    "\n",
    "H = P*D*P.I\n",
    "H_ad = H.getH()\n",
    "\n",
    "X = np.matrix([[0, 1],[1, 0]]) \n",
    "Y = np.matrix([[0, -1j],[1j, 0]]) \n",
    "Z = np.matrix([[1, 0],[0, -1]]) \n",
    "\n",
    "#H = Y;\n",
    "#H = np.matrix([[1.5, 0.5],[0.5 , 1.5]])\n",
    "U = np.matrix(expm(1j*H))\n",
    "print(U)"
   ]
  },
  {
   "cell_type": "code",
   "execution_count": 292,
   "metadata": {},
   "outputs": [
    {
     "data": {
      "text/plain": [
       "matrix([[ True,  True],\n",
       "        [ True,  True]])"
      ]
     },
     "execution_count": 292,
     "metadata": {},
     "output_type": "execute_result"
    }
   ],
   "source": [
    "H_ad==H"
   ]
  },
  {
   "cell_type": "code",
   "execution_count": 293,
   "metadata": {},
   "outputs": [
    {
     "name": "stdout",
     "output_type": "stream",
     "text": [
      "[[ 0.        -0.00000000e+00j  0.        +0.00000000e+00j]\n",
      " [ 0.        -0.00000000e+00j -2.35619449+1.01465364e-17j]]\n"
     ]
    }
   ],
   "source": [
    "H=-1j*logm(U)\n",
    "print(H)"
   ]
  },
  {
   "cell_type": "code",
   "execution_count": 294,
   "metadata": {},
   "outputs": [
    {
     "name": "stdout",
     "output_type": "stream",
     "text": [
      "(array([-2.35619449,  0.        ]), array([[0.+0.j, 1.+0.j],\n",
      "       [1.+0.j, 0.+0.j]])) (array([ 1.        +0.j        , -0.70710678-0.70710678j]), matrix([[1.+0.j, 0.+0.j],\n",
      "        [0.+0.j, 1.+0.j]]))\n"
     ]
    }
   ],
   "source": [
    "h_eigenvalue = np.linalg.eigh(H)\n",
    "eigenvalue = np.linalg.eig(U)\n",
    "print(h_eigenvalue, eigenvalue)"
   ]
  },
  {
   "cell_type": "code",
   "execution_count": 295,
   "metadata": {},
   "outputs": [
    {
     "data": {
      "text/plain": [
       "(1+0j)"
      ]
     },
     "execution_count": 295,
     "metadata": {},
     "output_type": "execute_result"
    }
   ],
   "source": [
    "exp(1j*h_eigenvalue[0][1])"
   ]
  },
  {
   "cell_type": "code",
   "execution_count": 296,
   "metadata": {},
   "outputs": [
    {
     "data": {
      "text/plain": [
       "(array([[ 0.        -0.00000000e+00j,  0.        +0.00000000e+00j],\n",
       "        [ 0.        -0.00000000e+00j, -2.35619449+1.01465364e-17j]]),\n",
       " matrix([[ 1.        +0.j        ,  0.        +0.j        ],\n",
       "         [-0.        +0.j        , -0.70710678-0.70710678j]]))"
      ]
     },
     "execution_count": 296,
     "metadata": {},
     "output_type": "execute_result"
    }
   ],
   "source": [
    "H,U"
   ]
  },
  {
   "cell_type": "code",
   "execution_count": 297,
   "metadata": {},
   "outputs": [
    {
     "name": "stdout",
     "output_type": "stream",
     "text": [
      "0.0 -1.1780972450961729 -1.1780972450961729\n"
     ]
    }
   ],
   "source": [
    "theta = 0\n",
    "phi = 0\n",
    "lamb = 0\n",
    "\n",
    "#m_90 = sqrtm(U)\n",
    "#alpha = 14.0*pi/8.0\n",
    "#U=np.matrix([[exp(1j*alpha), 0],[0 , exp(-1j*alpha)]])\n",
    "theta,phi,lamb = euler_angles_1q(U)    \n",
    "\n",
    "#lamb = phase = 14.0*pi/8.0\n",
    "print(theta,phi,lamb)"
   ]
  },
  {
   "cell_type": "code",
   "execution_count": 298,
   "metadata": {},
   "outputs": [
    {
     "name": "stdout",
     "output_type": "stream",
     "text": [
      "{'0000': 508, '1010': 516}\n"
     ]
    },
    {
     "data": {
      "image/png": "[encoded data removed]",
      "text/plain": [
       "<Figure size 504x360 with 1 Axes>"
      ]
     },
     "execution_count": 298,
     "metadata": {},
     "output_type": "execute_result"
    }
   ],
   "source": [
    "def iqft(qci, q, n):\n",
    "    for i in range(n):\n",
    "        for j in range(i):\n",
    "            qci.cu1(-pi/float(2**(i-j)),q[j], q[i])\n",
    "        qci.h(q[i])\n",
    "\n",
    "def swap(qci, s1, s2):\n",
    "    qci.cx(s1, s2)\n",
    "    qci.cx(s2, s1)\n",
    "    qci.cx(s1, s2)\n",
    "    \n",
    "n = 4\n",
    "qr = QuantumRegister(n, 'qr')\n",
    "ur = QuantumRegister(1, 'ur')\n",
    "c = ClassicalRegister(n)\n",
    "qc = QuantumCircuit(qr, ur, c)\n",
    "\n",
    "qc.h(qr)\n",
    "#qc.x(ur[0])\n",
    "qc.h(ur[0])\n",
    "\n",
    "qc.cu3(theta,phi,lamb, qr[3], ur[0]) # cU^1\n",
    "\n",
    "qc.cu3(theta,phi,lamb, qr[2], ur[0]) # cU^2\n",
    "qc.cu3(theta,phi,lamb, qr[2], ur[0]) # cU^2\n",
    "\n",
    "qc.cu3(theta,phi,lamb, qr[1], ur[0]) # cU^4\n",
    "qc.cu3(theta,phi,lamb, qr[1], ur[0]) # cU^4\n",
    "qc.cu3(theta,phi,lamb, qr[1], ur[0]) # cU^4\n",
    "qc.cu3(theta,phi,lamb, qr[1], ur[0]) # cU^4\n",
    "\n",
    "qc.cu3(theta,phi,lamb, qr[0], ur[0]) # cU^8\n",
    "qc.cu3(theta,phi,lamb, qr[0], ur[0]) # cU^8\n",
    "qc.cu3(theta,phi,lamb, qr[0], ur[0]) # cU^8\n",
    "qc.cu3(theta,phi,lamb, qr[0], ur[0]) # cU^8\n",
    "qc.cu3(theta,phi,lamb, qr[0], ur[0]) # cU^8\n",
    "qc.cu3(theta,phi,lamb, qr[0], ur[0]) # cU^8\n",
    "qc.cu3(theta,phi,lamb, qr[0], ur[0]) # cU^8\n",
    "qc.cu3(theta,phi,lamb, qr[0], ur[0]) # cU^8\n",
    "\n",
    "iqft(qc, qr, n)\n",
    "\n",
    "qc.measure(qr, c)\n",
    "\n",
    "backend = BasicAer.get_backend('qasm_simulator')\n",
    "result = execute(qc, backend, shots=1024).result()\n",
    "counts  = result.get_counts(qc)\n",
    "print(counts)\n",
    "plot_histogram(counts)"
   ]
  },
  {
   "cell_type": "code",
   "execution_count": 299,
   "metadata": {},
   "outputs": [
    {
     "name": "stdout",
     "output_type": "stream",
     "text": [
      "[0.0, 3.9269908169872414]\n"
     ]
    }
   ],
   "source": [
    "def Text2List(table):\n",
    "    list = [int(i, base=2) for i in table]\n",
    "    size = len(table[0])\n",
    "    tmp = sorted(list, key=int, reverse=False)  # values in ascending order\n",
    "    result = [[int(bin(j)[2:].zfill(size)[i]) for i in range(size)] for j in tmp]\n",
    "    return result\n",
    "    \n",
    "theta=2*pi*(0*1/2+0*1/4+1*1/8+1*1/16)\n",
    "blist = Text2List(list(counts.keys()))\n",
    "results = [2*pi*sum([value/2**(i+1) for i,value in enumerate(j)]) for j in blist]\n",
    "print(results)"
   ]
  },
  {
   "cell_type": "code",
   "execution_count": null,
   "metadata": {},
   "outputs": [],
   "source": []
  },
  {
   "cell_type": "code",
   "execution_count": null,
   "metadata": {},
   "outputs": [],
   "source": []
  }
 ],
 "metadata": {
  "kernelspec": {
   "display_name": "Python 3",
   "language": "python",
   "name": "python3"
  },
  "language_info": {
   "codemirror_mode": {
    "name": "ipython",
    "version": 3
   },
   "file_extension": ".py",
   "mimetype": "text/x-python",
   "name": "python",
   "nbconvert_exporter": "python",
   "pygments_lexer": "ipython3",
   "version": "3.7.4"
  }
 },
 "nbformat": 4,
 "nbformat_minor": 2
}
