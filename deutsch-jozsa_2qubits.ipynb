{
 "cells": [
  {
   "cell_type": "code",
   "execution_count": 3,
   "metadata": {},
   "outputs": [],
   "source": [
    "from qiskit import QuantumRegister, ClassicalRegister, QuantumCircuit\n",
    "from qiskit import BasicAer\n",
    "from qiskit import execute\n",
    "from qiskit.tools.visualization import plot_histogram\n",
    "from qiskit.tools.visualization import plot_state_city, plot_bloch_multivector, plot_state_paulivec, plot_state_hinton, plot_state_qsphere\n",
    "from IBMQuantumExperience.IBMQuantumExperience import IBMQuantumExperience\n",
    "from qiskit import IBMQ\n",
    "from qiskit.providers.ibmq import least_busy\n",
    "from qiskit.tools.monitor import job_monitor\n",
    "from math import *"
   ]
  },
  {
   "cell_type": "code",
   "execution_count": 4,
   "metadata": {
    "scrolled": false
   },
   "outputs": [
    {
     "name": "stdout",
     "output_type": "stream",
     "text": [
      "{'1 1 1': 243, '1 0 0': 255, '1 1 0': 260, '1 0 1': 266}\n"
     ]
    },
    {
     "data": {
      "image/png": "[encoded data removed]",
      "text/plain": [
       "<Figure size 504x360 with 1 Axes>"
      ]
     },
     "execution_count": 4,
     "metadata": {},
     "output_type": "execute_result"
    }
   ],
   "source": [
    "q = QuantumRegister(3)\n",
    "c0 = ClassicalRegister(1, \"c0\")\n",
    "c1 = ClassicalRegister(1, \"c1\")\n",
    "c2 = ClassicalRegister(1, \"c2\")\n",
    "qc = QuantumCircuit(q, c0, c1, c2, name=\"test1\")\n",
    "\n",
    "qc.h(q[0])\n",
    "qc.h(q[1])\n",
    "qc.x(q[2])\n",
    "\n",
    "#qc.x(q[2]) = HZH |q[2]>\n",
    "#qc.h(q[2])\n",
    "#qc.x(q[2])\n",
    "#qc.h(q[2])\n",
    "\n",
    "# oracle function - f(x) = x0+x1x2\n",
    "qc.h(q[0])\n",
    "qc.cx(q[1],q[0])\n",
    "qc.h(q[0])\n",
    "\n",
    "#qc.z(q[2]) # phase-flip\n",
    "#----------------\n",
    "\n",
    "qc.h(q[0])\n",
    "qc.h(q[1])\n",
    "#qc.h(q[2])\n",
    "\n",
    "qc.measure(q[0], c0[0])\n",
    "qc.measure(q[1], c1[0])\n",
    "qc.measure(q[2], c2[0])\n",
    "\n",
    "backend = BasicAer.get_backend('qasm_simulator')\n",
    "result = execute(qc, backend, shots=1024).result()\n",
    "counts  = result.get_counts(qc)# execute the quantum circuit\n",
    "print(counts)\n",
    "# Run in interactive mode\n",
    "#iplot_histogram(counts)\n",
    "\n",
    "plot_histogram(counts)\n",
    "\n",
    "#psi  = result.get_statevector(qc)\n",
    "#plot_state_hinton(psi)"
   ]
  },
  {
   "cell_type": "code",
   "execution_count": 5,
   "metadata": {},
   "outputs": [
    {
     "data": {
      "image/png": "[encoded data removed]",
      "text/plain": [
       "<Figure size 460.778x385.28 with 1 Axes>"
      ]
     },
     "execution_count": 5,
     "metadata": {},
     "output_type": "execute_result"
    }
   ],
   "source": [
    "qc.draw(output='mpl')"
   ]
  },
  {
   "cell_type": "code",
   "execution_count": null,
   "metadata": {},
   "outputs": [],
   "source": [
    "token = open(\"../ibm_token.txt\",\"r\").read().strip()\n",
    "IBMQ.enable_account(token)"
   ]
  },
  {
   "cell_type": "code",
   "execution_count": null,
   "metadata": {},
   "outputs": [
    {
     "data": {
      "application/vnd.jupyter.widget-view+json": {
       "model_id": "0b8e77b1c429468ea1574e0d095a0187",
       "version_major": 2,
       "version_minor": 0
      },
      "text/plain": [
       "HTML(value=\"<p style='font-size:16px;'>Job Status: job is being initialized </p>\")"
      ]
     },
     "metadata": {},
     "output_type": "display_data"
    }
   ],
   "source": [
    "shots = 1024\n",
    "\n",
    "provider = IBMQ.get_provider()\n",
    "print(provider.backends())\n",
    "backend  = provider.get_backend('ibmq_athens')\n",
    "\n",
    "job_exp = execute(qc, backend=backend, shots=shots)\n",
    "job_monitor(job_exp)"
   ]
  },
  {
   "cell_type": "code",
   "execution_count": null,
   "metadata": {
    "scrolled": false
   },
   "outputs": [],
   "source": [
    "result_exp = job_exp.result()\n",
    "print(result_exp)"
   ]
  },
  {
   "cell_type": "code",
   "execution_count": null,
   "metadata": {},
   "outputs": [],
   "source": [
    "counts_exp = result_exp.get_counts(qc)\n",
    "plot_histogram([counts_exp,counts])"
   ]
  },
  {
   "cell_type": "code",
   "execution_count": null,
   "metadata": {},
   "outputs": [],
   "source": [
    "jobID = job_exp.job_id()\n",
    "print('JOB ID: {}'.format(jobID))"
   ]
  }
 ],
 "metadata": {
  "kernelspec": {
   "display_name": "Python 3",
   "language": "python",
   "name": "python3"
  },
  "language_info": {
   "codemirror_mode": {
    "name": "ipython",
    "version": 3
   },
   "file_extension": ".py",
   "mimetype": "text/x-python",
   "name": "python",
   "nbconvert_exporter": "python",
   "pygments_lexer": "ipython3",
   "version": "3.8.5"
  }
 },
 "nbformat": 4,
 "nbformat_minor": 2
}
